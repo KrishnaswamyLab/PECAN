{
 "cells": [
  {
   "cell_type": "markdown",
   "metadata": {},
   "source": [
    "# Finding midpoints by intersecting diffusions"
   ]
  },
  {
   "cell_type": "code",
   "execution_count": 1,
   "metadata": {},
   "outputs": [],
   "source": [
    "import phate\n",
    "import numpy as np\n",
    "import scprep"
   ]
  },
  {
   "cell_type": "markdown",
   "metadata": {},
   "source": [
    "The old wise programmers say to \"take the simple things first\". Let's follow this adage. "
   ]
  },
  {
   "cell_type": "code",
   "execution_count": 2,
   "metadata": {},
   "outputs": [],
   "source": [
    "# the algorithm\n",
    "def find_diffusion_midpoint(i,j,P,threshold=0.01):\n",
    "    \"\"\"\n",
    "    Diffuses at increasing scales until a point of non-negligible overlap appears between the dirac diffused from i and the dirac diffused from j. Returns this (these) point(s) as the diffusion midpoints.\n",
    "    \"\"\"\n",
    "    assert i != j\n",
    "    # initialize diracs at i and j\n",
    "    diffused_i = np.zeros(P.shape[0])\n",
    "    diffused_i[i] = 1\n",
    "    diffused_j = np.zeros(P.shape[0])\n",
    "    diffused_j[j] = 1\n",
    "    indices_of_intersection = []\n",
    "    while len(indices_of_intersection) == 0:\n",
    "        # take one step of diffusion\n",
    "        diffused_i = diffused_i @ P\n",
    "        diffused_j = diffused_j @ P\n",
    "        # find the intersection as the product of the diffusions\n",
    "        intersection = diffused_i * diffused_j\n",
    "        print(max(intersection),len(intersection.nonzero()[0]))\n",
    "        # remove points in the intersection which fall beneath the threshold\n",
    "        intersection = (intersection >= threshold).astype(int) * intersection\n",
    "        indices_of_intersection = intersection.nonzero()[0]\n",
    "    return indices_of_intersection"
   ]
  },
  {
   "cell_type": "code",
   "execution_count": 3,
   "metadata": {},
   "outputs": [
    {
     "data": {
      "text/plain": [
       "array([0.49249829, 0.30506222, 0.99881745, 0.55308346, 0.85450986,\n",
       "       0.61329652, 0.10752496, 0.62414169])"
      ]
     },
     "execution_count": 3,
     "metadata": {},
     "output_type": "execute_result"
    }
   ],
   "source": [
    "a = np.random.rand(8)\n",
    "a"
   ]
  },
  {
   "cell_type": "code",
   "execution_count": 4,
   "metadata": {},
   "outputs": [
    {
     "data": {
      "text/plain": [
       "array([0, 1, 2, 3, 4, 5, 7])"
      ]
     },
     "execution_count": 4,
     "metadata": {},
     "output_type": "execute_result"
    }
   ],
   "source": [
    "((a>0.3).astype(int)*a).nonzero()[0]"
   ]
  },
  {
   "cell_type": "markdown",
   "metadata": {},
   "source": [
    "# Experiments on the Planar graph"
   ]
  },
  {
   "cell_type": "code",
   "execution_count": 5,
   "metadata": {},
   "outputs": [],
   "source": [
    "grid = np.mgrid[0:4:0.05,0:4:0.05].T.reshape(-1,2)"
   ]
  },
  {
   "cell_type": "code",
   "execution_count": null,
   "metadata": {},
   "outputs": [],
   "source": [
    "from phate import phate\n",
    "phate_op = phate.PHATE(decay=1, n_landmark=8000)\n",
    "phate_coords = phate_op.fit_transform(grid)"
   ]
  },
  {
   "cell_type": "code",
   "execution_count": null,
   "metadata": {},
   "outputs": [],
   "source": [
    "# Test that PHATE worked as expected\n",
    "scprep.plot.scatter2d(phate_op.embedding)"
   ]
  },
  {
   "cell_type": "markdown",
   "metadata": {},
   "source": [
    "Looks pretty good to me. I think PHATE has recovered all of the information in this graph, which bodes well for the diffusion operator PHATE used."
   ]
  },
  {
   "cell_type": "code",
   "execution_count": null,
   "metadata": {},
   "outputs": [],
   "source": [
    "G = phate_op.graph\n",
    "P = phate_op.diff_op"
   ]
  },
  {
   "cell_type": "code",
   "execution_count": null,
   "metadata": {},
   "outputs": [],
   "source": [
    "P.shape"
   ]
  },
  {
   "cell_type": "markdown",
   "metadata": {},
   "source": [
    "A complication: PHATE has approximated the diffusion operator using \"landmarks,\" resulting in a matrix which is too small to apply "
   ]
  },
  {
   "cell_type": "markdown",
   "metadata": {},
   "source": [
    "It's time to test our method for el primero tiempo! "
   ]
  },
  {
   "cell_type": "code",
   "execution_count": null,
   "metadata": {},
   "outputs": [],
   "source": [
    "i = 1400\n",
    "j = 4800\n",
    "midpoints = find_diffusion_midpoint(i,j, P, threshold=0)\n",
    "midpoints"
   ]
  },
  {
   "cell_type": "code",
   "execution_count": null,
   "metadata": {},
   "outputs": [],
   "source": [
    "distribution = np.zeros(len(grid))\n",
    "distribution[midpoints]=1\n",
    "distribution[i] = 2\n",
    "distribution[j] = 2\n",
    "scprep.plot.scatter2d(grid,c=distribution)"
   ]
  },
  {
   "cell_type": "code",
   "execution_count": null,
   "metadata": {},
   "outputs": [],
   "source": [
    "G.K"
   ]
  },
  {
   "cell_type": "code",
   "execution_count": null,
   "metadata": {},
   "outputs": [],
   "source": []
  }
 ],
 "metadata": {
  "kernelspec": {
   "display_name": "PECAN",
   "language": "python",
   "name": "pecan"
  },
  "language_info": {
   "codemirror_mode": {
    "name": "ipython",
    "version": 3
   },
   "file_extension": ".py",
   "mimetype": "text/x-python",
   "name": "python",
   "nbconvert_exporter": "python",
   "pygments_lexer": "ipython3",
   "version": "3.7.4"
  }
 },
 "nbformat": 4,
 "nbformat_minor": 4
}
