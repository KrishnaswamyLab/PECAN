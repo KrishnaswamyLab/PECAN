{
 "cells": [
  {
   "cell_type": "code",
   "execution_count": 1,
   "id": "336d1620-8584-41bf-88ea-d5aaca95231e",
   "metadata": {},
   "outputs": [],
   "source": [
    "import numpy as np\n",
    "u = np.random.rand(2)\n",
    "v = np.random.rand(2)"
   ]
  },
  {
   "cell_type": "code",
   "execution_count": 6,
   "id": "84001022-d2d9-4dfc-bcf4-193a143b5e08",
   "metadata": {},
   "outputs": [],
   "source": [
    "uv = np.column_stack([u,v])"
   ]
  },
  {
   "cell_type": "code",
   "execution_count": 7,
   "id": "cceb4345-b7c4-4124-890f-7b96885407cb",
   "metadata": {},
   "outputs": [],
   "source": [
    "uv.sort()"
   ]
  },
  {
   "cell_type": "code",
   "execution_count": 8,
   "id": "c4aeaca5-1981-4f5c-a69f-bcfc624ac063",
   "metadata": {},
   "outputs": [
    {
     "data": {
      "text/plain": [
       "array([[0.09691684, 0.79168604],\n",
       "       [0.40106955, 0.44426852]])"
      ]
     },
     "execution_count": 8,
     "metadata": {},
     "output_type": "execute_result"
    }
   ],
   "source": [
    "uv"
   ]
  },
  {
   "cell_type": "code",
   "execution_count": 9,
   "id": "de2a54dd-b306-4318-9624-695beb31fc15",
   "metadata": {},
   "outputs": [
    {
     "data": {
      "text/plain": [
       "array([0.79168604, 0.40106955])"
      ]
     },
     "execution_count": 9,
     "metadata": {},
     "output_type": "execute_result"
    }
   ],
   "source": [
    "u"
   ]
  },
  {
   "cell_type": "code",
   "execution_count": 14,
   "id": "6d8e691c-c43e-46ea-a7b8-ba42dc0c07be",
   "metadata": {},
   "outputs": [
    {
     "ename": "ValueError",
     "evalue": "The truth value of an array with more than one element is ambiguous. Use a.any() or a.all()",
     "output_type": "error",
     "traceback": [
      "\u001b[0;31m---------------------------------------------------------------------------\u001b[0m",
      "\u001b[0;31mValueError\u001b[0m                                Traceback (most recent call last)",
      "\u001b[0;32m<ipython-input-14-4a813792c15a>\u001b[0m in \u001b[0;36m<module>\u001b[0;34m\u001b[0m\n\u001b[0;32m----> 1\u001b[0;31m \u001b[0mr\u001b[0m \u001b[0;34m=\u001b[0m \u001b[0;34m(\u001b[0m\u001b[0muv\u001b[0m \u001b[0;34m>\u001b[0m \u001b[0;36m0.1\u001b[0m \u001b[0;32mand\u001b[0m \u001b[0muv\u001b[0m \u001b[0;34m<\u001b[0m \u001b[0;36m0.7\u001b[0m\u001b[0;34m)\u001b[0m\u001b[0;34m\u001b[0m\u001b[0;34m\u001b[0m\u001b[0m\n\u001b[0m",
      "\u001b[0;31mValueError\u001b[0m: The truth value of an array with more than one element is ambiguous. Use a.any() or a.all()"
     ]
    }
   ],
   "source": [
    "r = (uv > 0.1)"
   ]
  },
  {
   "cell_type": "code",
   "execution_count": 13,
   "id": "2b41d75d-91fd-4723-af50-f6266a9dc77c",
   "metadata": {},
   "outputs": [
    {
     "data": {
      "text/plain": [
       "array([[False,  True],\n",
       "       [ True,  True]])"
      ]
     },
     "execution_count": 13,
     "metadata": {},
     "output_type": "execute_result"
    }
   ],
   "source": [
    "r"
   ]
  },
  {
   "cell_type": "code",
   "execution_count": 15,
   "id": "c0f7f84c-2a7b-4ccf-9ecf-cceb17acdcdb",
   "metadata": {},
   "outputs": [],
   "source": [
    "s = (uv < 0.7)"
   ]
  },
  {
   "cell_type": "code",
   "execution_count": 16,
   "id": "e6b1fee4-6bf2-45fe-b8e3-301e8321db8b",
   "metadata": {},
   "outputs": [
    {
     "data": {
      "text/plain": [
       "array([[False, False],\n",
       "       [ True,  True]])"
      ]
     },
     "execution_count": 16,
     "metadata": {},
     "output_type": "execute_result"
    }
   ],
   "source": [
    "r*s"
   ]
  },
  {
   "cell_type": "code",
   "execution_count": 17,
   "id": "a3af0c12-9ca0-4f78-a197-a2845477138e",
   "metadata": {},
   "outputs": [
    {
     "data": {
      "text/plain": [
       "array([0.40106955, 0.44426852])"
      ]
     },
     "execution_count": 17,
     "metadata": {},
     "output_type": "execute_result"
    }
   ],
   "source": [
    "uv[r*s]"
   ]
  },
  {
   "cell_type": "code",
   "execution_count": 18,
   "id": "22480155-1c2c-4e41-993f-05fd131db9a3",
   "metadata": {},
   "outputs": [
    {
     "data": {
      "text/plain": [
       "(array([1, 1]), array([0, 1]))"
      ]
     },
     "execution_count": 18,
     "metadata": {},
     "output_type": "execute_result"
    }
   ],
   "source": [
    "(r*s).nonzero()"
   ]
  },
  {
   "cell_type": "code",
   "execution_count": null,
   "id": "53b87c93-410b-47a1-8e74-07604221ee61",
   "metadata": {},
   "outputs": [],
   "source": []
  }
 ],
 "metadata": {
  "kernelspec": {
   "display_name": "PECAN",
   "language": "python",
   "name": "pecan"
  },
  "language_info": {
   "codemirror_mode": {
    "name": "ipython",
    "version": 3
   },
   "file_extension": ".py",
   "mimetype": "text/x-python",
   "name": "python",
   "nbconvert_exporter": "python",
   "pygments_lexer": "ipython3",
   "version": "3.7.6"
  }
 },
 "nbformat": 4,
 "nbformat_minor": 5
}
