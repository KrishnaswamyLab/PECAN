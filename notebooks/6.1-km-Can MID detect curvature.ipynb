{
 "cells": [
  {
   "cell_type": "code",
   "execution_count": null,
   "metadata": {},
   "outputs": [],
   "source": [
    "# for dealing with matrices\n",
    "import numpy as np\n",
    "\n",
    "# for plotting 2D and 3D graphs\n",
    "import plotly\n",
    "import plotly.graph_objs as go\n",
    "import plotly.express as px\n",
    "import pandas as pd\n",
    "import matplotlib.pyplot as plt\n",
    "import seaborn as sns\n",
    "import scprep # has nice shortcuts to plt scatter\n",
    "\n",
    "# for status bars\n",
    "from tqdm.notebook import tqdm, trange\n",
    "\n",
    "# handy functions\n",
    "from sklearn.metrics.pairwise import euclidean_distances\n",
    "import graphtools\n",
    "\n",
    "from pecan import MID\n",
    "\n",
    "# reload any changes \n",
    "%load_ext autoreload\n",
    "%autoreload 2\n",
    "\n",
    "# initialize plotters\n",
    "plotly.offline.init_notebook_mode()     # configure Plotly to be rendered inline in the notebook.\n",
    "sns.set()\n",
    "%matplotlib inline"
   ]
  },
  {
   "cell_type": "markdown",
   "metadata": {},
   "source": [
    "#### helper functions"
   ]
  },
  {
   "cell_type": "code",
   "execution_count": null,
   "metadata": {},
   "outputs": [],
   "source": [
    "def plot_3d(X, distribution, title=\"\", lim=1):\n",
    "\n",
    "    d = {'x':X[:,0], 'y':X[:,1], 'z':X[:,2], 'colors':distribution}\n",
    "    df = pd.DataFrame(data=d)\n",
    "    fig = px.scatter_3d(df, x='x', y='y', z='z', color='colors', title=title, \n",
    "                        range_x=[-lim,lim], range_y=[-lim,lim], range_z=[-lim,lim])\n",
    "    fig.show()"
   ]
  }
 ],
 "metadata": {
  "language_info": {
   "codemirror_mode": {
    "name": "ipython",
    "version": 3
   },
   "file_extension": ".py",
   "mimetype": "text/x-python",
   "name": "python",
   "nbconvert_exporter": "python",
   "pygments_lexer": "ipython3",
   "version": 3
  },
  "orig_nbformat": 4
 },
 "nbformat": 4,
 "nbformat_minor": 2
}
